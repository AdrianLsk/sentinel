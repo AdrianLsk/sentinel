{
 "cells": [
  {
   "cell_type": "markdown",
   "metadata": {},
   "source": [
    "Structure:\n",
    "* find tile corresponding to geojson\n",
    "* download B8A, B11 tiles\n",
    "* calculate NDVI\n",
    "* threshold vegetation\n",
    "* classify"
   ]
  },
  {
   "cell_type": "code",
   "execution_count": 1,
   "metadata": {},
   "outputs": [],
   "source": [
    "%matplotlib inline\n",
    "import matplotlib.pyplot as plt\n",
    "import numpy as np\n",
    "from sentinelsat.sentinel import SentinelAPI, read_geojson, geojson_to_wkt\n",
    "from sentinelhub import AwsProductRequest\n",
    "from geojson import Polygon\n",
    "from datetime import date\n",
    "import json\n",
    "import folium\n",
    "import geopandas as gpd\n",
    "import pandas as pd\n",
    "import requests\n",
    "import fiona"
   ]
  },
  {
   "cell_type": "markdown",
   "metadata": {},
   "source": [
    "# Get GeoJSONs"
   ]
  },
  {
   "cell_type": "code",
   "execution_count": 9,
   "metadata": {},
   "outputs": [],
   "source": [
    "data = requests.get('https://raw.githubusercontent.com/drakh/slovakia-gps-data/master/GeoJSON/epsg_4326/slovakia_esri_epsg_4326.geojson')\n",
    "b = bytes(data.content)\n",
    "with fiona.BytesCollection(b) as f:\n",
    "    crs = f.crs\n",
    "    svk_gdf = gpd.GeoDataFrame.from_features(f, crs=crs)\n",
    "\n",
    "geojson = svk_gdf.geometry[0]"
   ]
  },
  {
   "cell_type": "code",
   "execution_count": 65,
   "metadata": {},
   "outputs": [],
   "source": [
    "footprint = geojson.convex_hull.to_wkt()  # geojson.to_wkt() TOO LONG"
   ]
  },
  {
   "cell_type": "code",
   "execution_count": 56,
   "metadata": {},
   "outputs": [
    {
     "data": {
      "text/plain": [
       "(datetime.date(2017, 5, 8), datetime.date(2017, 5, 15))"
      ]
     },
     "execution_count": 56,
     "metadata": {},
     "output_type": "execute_result"
    }
   ],
   "source": [
    "dates_L1C = (date(2007, 1, 1), date(2017, 5, 2))  # Sentinel 2 Level 1C\n",
    "dates_L2A = (date(2017, 5, 2), 'NOW')  # Sentinel 2 Level 2A\n",
    "\n",
    "weeks_L2A = pd.date_range(start=date(2017, 5, 2), end='NOW', freq='1W-MON').to_pydatetime()\n",
    "weeks_L2A = [x.date() for x in weeks_L2A]\n",
    "weeks_L2A = list(zip(weeks_L2A[:-1], weeks_L2A[1:]))\n",
    "\n",
    "weeks_L2A[0]"
   ]
  },
  {
   "cell_type": "markdown",
   "metadata": {},
   "source": [
    "# Get corresponding product ids"
   ]
  },
  {
   "cell_type": "code",
   "execution_count": 72,
   "metadata": {},
   "outputs": [
    {
     "data": {
      "text/plain": [
       "50"
      ]
     },
     "execution_count": 72,
     "metadata": {},
     "output_type": "execute_result"
    }
   ],
   "source": [
    "len(weeks_L2A)"
   ]
  },
  {
   "cell_type": "code",
   "execution_count": 71,
   "metadata": {},
   "outputs": [
    {
     "data": {
      "text/plain": [
       "81"
      ]
     },
     "execution_count": 71,
     "metadata": {},
     "output_type": "execute_result"
    }
   ],
   "source": [
    "product_ids = get_sentinel_products(dates_L2A, producttype=L2A, area_relation=INTERSECTS)\n",
    "len(product_ids)"
   ]
  },
  {
   "cell_type": "code",
   "execution_count": null,
   "metadata": {},
   "outputs": [],
   "source": [
    "product_id = product_ids[0]  # June\n",
    "\n",
    "# GeoPandas GeoDataFrame with the metadata of the scenes and the footprints as geometries\n",
    "geo_df = api.to_geodataframe(products).loc[[product_id]][['geometry']]\n",
    "\n",
    "def add_choropleth(mapobj, gdf, fill_color='Blue', fill_opacity=0.6,\n",
    "                   line_opacity=0.2, num_classes=5):\n",
    "    # Convert the GeoDataFrame to WGS84 coordinate reference system\n",
    "    gdf_wgs84 = gdf.to_crs({'init': 'epsg:4326'})\n",
    "    \n",
    "    # Call Folium choropleth function, specifying the geometry as a the WGS84 dataframe converted to GeoJSON,\n",
    "    # the data as the GeoDataFrame, the columns as the user-specified id field and and value field.\n",
    "    # key_on field refers to the id field within the GeoJSON string\n",
    "    mapobj.choropleth(\n",
    "        geo_data=gdf_wgs84.to_json(),\n",
    "        fill_color=fill_color,\n",
    "        fill_opacity=fill_opacity,\n",
    "        line_opacity=line_opacity,  \n",
    "    )\n",
    "    return mapobj\n",
    "\n",
    "slovakia_map = folium.Map(np.mean(coordinates[0], 0).tolist()[::-1], zoom_start=8)\n",
    "slovakia_map = add_choropleth(slovakia_map, geo_df)\n",
    "slovakia_map"
   ]
  },
  {
   "cell_type": "markdown",
   "metadata": {},
   "source": [
    "# Download tiles"
   ]
  },
  {
   "cell_type": "code",
   "execution_count": null,
   "metadata": {},
   "outputs": [],
   "source": [
    "bands = ['B8A', 'B11']\n",
    "metafiles = ['tileInfo', 'preview', 'qi/MSK_CLOUDS_B00']\n",
    "data_folder = '../data/AwsData'\n",
    "\n",
    "request = AwsTileRequest(tile=tile_name, time=time, aws_index=aws_index, \n",
    "                         bands=bands, metafiles=metafiles, data_folder=data_folder)\n",
    "request.save_data()\n",
    "\n",
    "data_list = request.get_data()\n",
    "b8a, b11, tile_info, preview, cloud_mask = data_list"
   ]
  },
  {
   "cell_type": "code",
   "execution_count": null,
   "metadata": {},
   "outputs": [],
   "source": [
    "plt.imshow(preview)"
   ]
  },
  {
   "cell_type": "code",
   "execution_count": 41,
   "metadata": {},
   "outputs": [],
   "source": [
    "product_id = 'S2A_MSIL1C_20171010T003621_N0205_R002_T01WCV_20171010T003615'\n",
    "# product_id = 'S2A_OPER_PRD_MSIL1C_PDMC_20160121T043931_R069_V20160103T171947_20160103T171947'\n",
    "data_folder = '../data/AwsData'\n",
    "bands = ['B8A', 'B11']\n",
    "bands = None\n",
    "\n",
    "product_request = AwsProductRequest(product_id=product_id, bands=bands, data_folder=data_folder, safe_format=True)\n",
    "# data_list = product_request.get_data(save_data=True)\n",
    "product_request.save_data()\n",
    "\n",
    "# product_request = AwsProductRequest(product_id=product_id, bands=['B8A', 'B11'], data_folder=data_folder)\n",
    "# data_list = product_request.get_data(save_data=True)"
   ]
  },
  {
   "cell_type": "markdown",
   "metadata": {},
   "source": [
    "# Post-process with Sen2Cor if product-type is S2MSI1C"
   ]
  },
  {
   "cell_type": "code",
   "execution_count": 25,
   "metadata": {},
   "outputs": [],
   "source": [
    "import os"
   ]
  },
  {
   "cell_type": "code",
   "execution_count": 32,
   "metadata": {},
   "outputs": [
    {
     "data": {
      "text/plain": [
       "'../data/AwsData/S2A_OPER_PRD_MSIL1C_PDMC_20160121T043931_R069_V20160103T171947_20160103T171947.SAFE'"
      ]
     },
     "execution_count": 32,
     "metadata": {},
     "output_type": "execute_result"
    }
   ],
   "source": [
    "data_path = os.path.join(data_folder, product_id + '.SAFE')\n",
    "data_path"
   ]
  },
  {
   "cell_type": "code",
   "execution_count": 33,
   "metadata": {},
   "outputs": [
    {
     "name": "stdout",
     "output_type": "stream",
     "text": [
      "total 732K\n",
      "drwxr-xr-x  2 adrian 4,0K 29 apr 12:32 \u001b[0m\u001b[01;34mAUX_DATA\u001b[0m/\n",
      "drwxr-xr-x  3 adrian 4,0K 29 apr 12:32 \u001b[01;34mDATASTRIP\u001b[0m/\n",
      "drwxr-xr-x 14 adrian 4,0K 29 apr 12:32 \u001b[01;34mGRANULE\u001b[0m/\n",
      "drwxr-xr-x  2 adrian 4,0K 29 apr 12:32 \u001b[01;34mHTML\u001b[0m/\n",
      "-rw-r--r--  1 adrian  20K 29 apr 12:32 INSPIRE.xml\n",
      "-rw-r--r--  1 adrian 635K 29 apr 12:32 manifest.safe\n",
      "drwxr-xr-x  2 adrian 4,0K 29 apr 12:32 \u001b[01;34mrep_info\u001b[0m/\n",
      "-rw-r--r--  1 adrian 7,1K 29 apr 12:32 \u001b[01;35mS2A_OPER_BWI_MSIL1C_PDMC_20160121T043931_R069_V20160103T171947_20160103T171947.png\u001b[0m\u001b[K\n",
      "-rw-r--r--  1 adrian  48K 29 apr 12:32 S2A_OPER_MTD_SAFL1C_PDMC_20160121T043931_R069_V20160103T171947_20160103T171947.xml\n"
     ]
    }
   ],
   "source": [
    "ll -h $data_path"
   ]
  },
  {
   "cell_type": "code",
   "execution_count": 34,
   "metadata": {},
   "outputs": [],
   "source": [
    "sencor_cmd = '/home/adrian/PycharmProjects/sentinel/Sen2Cor-02.05.05-Linux64/bin/L2A_Process'"
   ]
  },
  {
   "cell_type": "code",
   "execution_count": 36,
   "metadata": {},
   "outputs": [
    {
     "name": "stdout",
     "output_type": "stream",
     "text": [
      "Operation mode PDGS is not supported for Product version 13.1.\n",
      "Operation mode will be reset to TOOLBOX.\n",
      "\n",
      "Sentinel-2 Level 2A Processor (Sen2Cor). Version: 2.5.5, created: 2018.03.19, supporting Level-1C product version <= 14.5 started ...\n",
      "Product version: 13.1. Operation mode: TOOLBOX. Processing baseline: 02.01.\n",
      "/home/adrian/PycharmProjects/sentinel/Sen2Cor-02.05.05-Linux64/bin/L2A_Process: line 5: 16330 Segmentation fault      (core dumped) /home/adrian/PycharmProjects/sentinel/Sen2Cor-02.05.05-Linux64/bin/python2.7 -s /home/adrian/PycharmProjects/sentinel/Sen2Cor-02.05.05-Linux64/lib/python2.7/site-packages/sen2cor/L2A_Process.py \"$@\"\n"
     ]
    }
   ],
   "source": [
    "!$sencor_cmd $data_path"
   ]
  },
  {
   "cell_type": "markdown",
   "metadata": {},
   "source": [
    "# trva 18 minut na jeden tile!"
   ]
  },
  {
   "cell_type": "markdown",
   "metadata": {},
   "source": [
    "# Classify"
   ]
  }
 ],
 "metadata": {
  "kernelspec": {
   "display_name": "Python 3",
   "language": "python",
   "name": "python3"
  },
  "language_info": {
   "codemirror_mode": {
    "name": "ipython",
    "version": 3
   },
   "file_extension": ".py",
   "mimetype": "text/x-python",
   "name": "python",
   "nbconvert_exporter": "python",
   "pygments_lexer": "ipython3",
   "version": "3.6.2"
  }
 },
 "nbformat": 4,
 "nbformat_minor": 2
}
