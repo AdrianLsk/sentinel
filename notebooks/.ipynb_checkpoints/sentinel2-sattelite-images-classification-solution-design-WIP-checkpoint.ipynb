{
 "cells": [
  {
   "cell_type": "markdown",
   "metadata": {},
   "source": [
    "# References:\n",
    "\n",
    "* manual:  \n",
    "    * [data-download](https://gisgeography.com/how-to-download-sentinel-satellite-data/)  \n",
    "    * [ndvi-calculation-qgis](https://gisgeography.com/how-to-ndvi-maps-arcgis/)  \n",
    "    * [image-classification-qgis](https://gisgeography.com/image-classification-techniques-remote-sensing/)  \n",
    "    \n",
    "    \n",
    "* programmatically:  \n",
    "    * [data-download](http://sentinelsat.readthedocs.io/en/stable/)  \n",
    "    * [ndvi-calculation](http://neondataskills.org/HDF5/calc-ndvi-python/)  \n",
    "    * [CCCI](https://www.researchgate.net/publication/259360047_Use_of_the_Canopy_Chlorophyl_Content_Index_CCCI_for_Remote_Estimation_of_Wheat_Nitrogen_Content_in_Rainfed_Environments), [EVI](https://en.wikipedia.org/wiki/Enhanced_vegetation_index), [SAVI](https://en.wikipedia.org/wiki/Soil-adjusted_vegetation_index) \n",
    "    * simple solution based on color band wavelength thresholding\n",
    "    * machine learning based solution:\n",
    "        * deep learning for computer vision: convolutional neural networks\n",
    "        * [Kaggle-solution-satellite-images-classification](http://blog.kaggle.com/2017/05/09/dstl-satellite-imagery-competition-3rd-place-winners-interview-vladimir-sergey/)\n",
    "    \n",
    "    \n",
    "    \n",
    "# Solution:\n",
    "    * backend: Python Flask + ML lib: scikit-learn/TensorFlow \n",
    "    * frontend: ReactJS?\n",
    "\n",
    "# Data analysis starter code\n",
    "## Data collection using ESA sentinel data products"
   ]
  },
  {
   "cell_type": "code",
   "execution_count": null,
   "metadata": {},
   "outputs": [],
   "source": []
  },
  {
   "cell_type": "code",
   "execution_count": 24,
   "metadata": {},
   "outputs": [
    {
     "ename": "SentinelAPIError",
     "evalue": "HTTP status 503 Service Unavailable: \nThe Copernicus Open Access Hub\n\n# The Copernicus Open Access Hub will be back soon!\n\nSorry for the inconvenience,  \nwe're performing some maintenance at the moment.  \n\n<https://scihub.copernicus.eu/news/News00311>\n\nWe'll be back online shortly!",
     "output_type": "error",
     "traceback": [
      "\u001b[0;31m---------------------------------------------------------------------------\u001b[0m",
      "\u001b[0;31mSentinelAPIError\u001b[0m                          Traceback (most recent call last)",
      "\u001b[0;32m<ipython-input-24-cc96293be291>\u001b[0m in \u001b[0;36m<module>\u001b[0;34m()\u001b[0m\n\u001b[1;32m     14\u001b[0m \u001b[0mraw_query\u001b[0m \u001b[0;34m=\u001b[0m \u001b[0;34m'(%20footprint:%22Intersects(POLYGON((18.025318309126252%2048.25365988314252,17.945005267006067%2048.18825958525136,18.043165651819628%2048.18825958525136,18.025318309126252%2048.25365988314252,18.025318309126252%2048.25365988314252)))%22)%20AND%20(platformname:Sentinel-2%20AND%20filename:S2A_*%20AND%20producttype:S2MSI2Ap)%20AND%20cloudcoverpercentage:[0%20TO%2040]'\u001b[0m\u001b[0;34m\u001b[0m\u001b[0m\n\u001b[1;32m     15\u001b[0m \u001b[0msnapshot\u001b[0m \u001b[0;34m=\u001b[0m \u001b[0;34m'S2A_MSIL2A_20180324T095031_N0206_R079_T33UYP_20180324T105749'\u001b[0m\u001b[0;34m\u001b[0m\u001b[0m\n\u001b[0;32m---> 16\u001b[0;31m \u001b[0mproducts\u001b[0m \u001b[0;34m=\u001b[0m \u001b[0mapi\u001b[0m\u001b[0;34m.\u001b[0m\u001b[0mquery\u001b[0m\u001b[0;34m(\u001b[0m\u001b[0mraw\u001b[0m\u001b[0;34m=\u001b[0m\u001b[0mraw_query\u001b[0m\u001b[0;34m)\u001b[0m\u001b[0;34m\u001b[0m\u001b[0m\n\u001b[0m\u001b[1;32m     17\u001b[0m \u001b[0;31m# api.download(id=product_id, directory_path='../data/')\u001b[0m\u001b[0;34m\u001b[0m\u001b[0;34m\u001b[0m\u001b[0m\n\u001b[1;32m     18\u001b[0m \u001b[0;34m\u001b[0m\u001b[0m\n",
      "\u001b[0;32m/home/adrian/.pyenv/versions/miniconda2-latest/envs/tensorflow/lib/python2.7/site-packages/sentinelsat/sentinel.pyc\u001b[0m in \u001b[0;36mquery\u001b[0;34m(self, area, date, raw, area_relation, order_by, limit, offset, **keywords)\u001b[0m\n\u001b[1;32m    142\u001b[0m                          \"({:.1%} of the limit)\".format(factor))\n\u001b[1;32m    143\u001b[0m             \u001b[0me\u001b[0m\u001b[0;34m.\u001b[0m\u001b[0m__cause__\u001b[0m \u001b[0;34m=\u001b[0m \u001b[0mNone\u001b[0m\u001b[0;34m\u001b[0m\u001b[0m\n\u001b[0;32m--> 144\u001b[0;31m             \u001b[0;32mraise\u001b[0m \u001b[0me\u001b[0m\u001b[0;34m\u001b[0m\u001b[0m\n\u001b[0m\u001b[1;32m    145\u001b[0m         \u001b[0mself\u001b[0m\u001b[0;34m.\u001b[0m\u001b[0mlogger\u001b[0m\u001b[0;34m.\u001b[0m\u001b[0minfo\u001b[0m\u001b[0;34m(\u001b[0m\u001b[0;34m\"Found %s products\"\u001b[0m\u001b[0;34m,\u001b[0m \u001b[0mcount\u001b[0m\u001b[0;34m)\u001b[0m\u001b[0;34m\u001b[0m\u001b[0m\n\u001b[1;32m    146\u001b[0m         \u001b[0;32mreturn\u001b[0m \u001b[0m_parse_opensearch_response\u001b[0m\u001b[0;34m(\u001b[0m\u001b[0mresponse\u001b[0m\u001b[0;34m)\u001b[0m\u001b[0;34m\u001b[0m\u001b[0m\n",
      "\u001b[0;31mSentinelAPIError\u001b[0m: HTTP status 503 Service Unavailable: \nThe Copernicus Open Access Hub\n\n# The Copernicus Open Access Hub will be back soon!\n\nSorry for the inconvenience,  \nwe're performing some maintenance at the moment.  \n\n<https://scihub.copernicus.eu/news/News00311>\n\nWe'll be back online shortly!"
     ]
    }
   ],
   "source": [
    "# https://github.com/sentinelsat/sentinelsat/blob/127619f6baede1b5cc852b208d4e57e9f4d518ee/README.rst\n",
    "from sentinelsat.sentinel import SentinelAPI, read_geojson, geojson_to_wkt\n",
    "from datetime import date\n",
    "import json\n",
    "\n",
    "with open('sentinel_user_login.json', 'r') as fp:\n",
    "    LOGIN_INFO = json.load(fp)\n",
    "USER_NAME, PASSWORD = list(LOGIN_INFO.values())\n",
    "\n",
    "# connect to the API\n",
    "api = SentinelAPI(USER_NAME, PASSWORD, 'https://scihub.copernicus.eu/dhus')\n",
    "\n",
    "# download single scene by known product id\n",
    "raw_query = '(%20footprint:%22Intersects(POLYGON((18.025318309126252%2048.25365988314252,17.945005267006067%2048.18825958525136,18.043165651819628%2048.18825958525136,18.025318309126252%2048.25365988314252,18.025318309126252%2048.25365988314252)))%22)%20AND%20(platformname:Sentinel-2%20AND%20filename:S2A_*%20AND%20producttype:S2MSI2Ap)%20AND%20cloudcoverpercentage:[0%20TO%2040]'\n",
    "snapshot = 'S2A_MSIL2A_20180324T095031_N0206_R079_T33UYP_20180324T105749'\n",
    "products = api.query(raw=raw_query)\n",
    "# api.download(id=product_id, directory_path='../data/')\n",
    "\n",
    "# # search by polygon, time, and Hub query keywords\n",
    "# footprint = geojson_to_wkt(read_geojson('map.geojson'))\n",
    "# products = api.query(footprint,\n",
    "#                      date = ('20180324', date(2018, 03, 24)),\n",
    "#                      platformname = 'Sentinel-2',\n",
    "#                      cloudcoverpercentage = (0, 40))\n",
    "\n",
    "# # download all results from the search\n",
    "# api.download_all(products)\n",
    "\n",
    "# # GeoJSON FeatureCollection containing footprints and metadata of the scenes\n",
    "# api.to_geojson(products)\n",
    "\n",
    "# # GeoPandas GeoDataFrame with the metadata of the scenes and the footprints as geometries\n",
    "# api.to_geopandas(products)\n",
    "\n",
    "# # Get basic information about the product: its title, file size, MD5 sum, date, footprint and\n",
    "# # its download url\n",
    "# api.get_product_odata(<product_id>)\n",
    "\n",
    "# # Get the product's full metadata available on the server\n",
    "# api.get_product_odata(<product_id>, full=True)"
   ]
  },
  {
   "cell_type": "markdown",
   "metadata": {},
   "source": [
    "## Data input types"
   ]
  },
  {
   "cell_type": "code",
   "execution_count": 5,
   "metadata": {},
   "outputs": [],
   "source": [
    "from bs4 import BeautifulSoup\n",
    "import requests\n",
    "import re\n",
    "import pandas as pd\n",
    "\n",
    "def extract_table(wiki_page, header_row=0):\n",
    "    soup = BeautifulSoup(requests.get(wiki_page).text, \"html5lib\")\n",
    "    table = soup.find(\"table\")\n",
    "    rows = table.find_all(\"tr\")\n",
    "\n",
    "    header = [re.sub(r'(\\[\\d\\])', '', x.text) for x in rows[header_row].find_all('th')]\n",
    "    table = [[x.text for x in row.find_all('td')] for row in rows[header_row+1:]]\n",
    "    return pd.DataFrame(table, columns=header)"
   ]
  },
  {
   "cell_type": "code",
   "execution_count": 8,
   "metadata": {
    "scrolled": true
   },
   "outputs": [
    {
     "data": {
      "text/html": [
       "<div>\n",
       "<style scoped>\n",
       "    .dataframe tbody tr th:only-of-type {\n",
       "        vertical-align: middle;\n",
       "    }\n",
       "\n",
       "    .dataframe tbody tr th {\n",
       "        vertical-align: top;\n",
       "    }\n",
       "\n",
       "    .dataframe thead th {\n",
       "        text-align: right;\n",
       "    }\n",
       "</style>\n",
       "<table border=\"1\" class=\"dataframe\">\n",
       "  <thead>\n",
       "    <tr style=\"text-align: right;\">\n",
       "      <th></th>\n",
       "      <th>Band</th>\n",
       "      <th>Resolution</th>\n",
       "      <th>Central Wavelength</th>\n",
       "      <th>Description</th>\n",
       "    </tr>\n",
       "  </thead>\n",
       "  <tbody>\n",
       "    <tr>\n",
       "      <th>0</th>\n",
       "      <td>B1</td>\n",
       "      <td>60 m</td>\n",
       "      <td>443 nm</td>\n",
       "      <td>Ultra blue (Coastal and Aerosol)</td>\n",
       "    </tr>\n",
       "    <tr>\n",
       "      <th>1</th>\n",
       "      <td>B2</td>\n",
       "      <td>10 m</td>\n",
       "      <td>490 nm</td>\n",
       "      <td>Blue</td>\n",
       "    </tr>\n",
       "    <tr>\n",
       "      <th>2</th>\n",
       "      <td>B3</td>\n",
       "      <td>10 m</td>\n",
       "      <td>560 nm</td>\n",
       "      <td>Green</td>\n",
       "    </tr>\n",
       "    <tr>\n",
       "      <th>3</th>\n",
       "      <td>B4</td>\n",
       "      <td>10 m</td>\n",
       "      <td>665 nm</td>\n",
       "      <td>Red</td>\n",
       "    </tr>\n",
       "    <tr>\n",
       "      <th>4</th>\n",
       "      <td>B5</td>\n",
       "      <td>20 m</td>\n",
       "      <td>705 nm</td>\n",
       "      <td>Visible and Near Infrared (VNIR)</td>\n",
       "    </tr>\n",
       "    <tr>\n",
       "      <th>5</th>\n",
       "      <td>B6</td>\n",
       "      <td>20 m</td>\n",
       "      <td>740 nm</td>\n",
       "      <td>Visible and Near Infrared (VNIR)</td>\n",
       "    </tr>\n",
       "    <tr>\n",
       "      <th>6</th>\n",
       "      <td>B7</td>\n",
       "      <td>20 m</td>\n",
       "      <td>783 nm</td>\n",
       "      <td>Visible and Near Infrared (VNIR)</td>\n",
       "    </tr>\n",
       "    <tr>\n",
       "      <th>7</th>\n",
       "      <td>B8</td>\n",
       "      <td>10 m</td>\n",
       "      <td>842 nm</td>\n",
       "      <td>Visible and Near Infrared (VNIR)</td>\n",
       "    </tr>\n",
       "    <tr>\n",
       "      <th>8</th>\n",
       "      <td>B8a</td>\n",
       "      <td>20 m</td>\n",
       "      <td>865 nm</td>\n",
       "      <td>Visible and Near Infrared (VNIR)</td>\n",
       "    </tr>\n",
       "    <tr>\n",
       "      <th>9</th>\n",
       "      <td>B9</td>\n",
       "      <td>60 m</td>\n",
       "      <td>940 nm</td>\n",
       "      <td>Short Wave Infrared (SWIR)</td>\n",
       "    </tr>\n",
       "    <tr>\n",
       "      <th>10</th>\n",
       "      <td>B10</td>\n",
       "      <td>60 m</td>\n",
       "      <td>1375 nm</td>\n",
       "      <td>Short Wave Infrared (SWIR)</td>\n",
       "    </tr>\n",
       "    <tr>\n",
       "      <th>11</th>\n",
       "      <td>B11</td>\n",
       "      <td>20 m</td>\n",
       "      <td>1610 nm</td>\n",
       "      <td>Short Wave Infrared (SWIR)</td>\n",
       "    </tr>\n",
       "    <tr>\n",
       "      <th>12</th>\n",
       "      <td>B12</td>\n",
       "      <td>20 m</td>\n",
       "      <td>2190 nm</td>\n",
       "      <td>Short Wave Infrared (SWIR)</td>\n",
       "    </tr>\n",
       "  </tbody>\n",
       "</table>\n",
       "</div>"
      ],
      "text/plain": [
       "   Band Resolution Central Wavelength                       Description\n",
       "0    B1       60 m             443 nm  Ultra blue (Coastal and Aerosol)\n",
       "1    B2       10 m             490 nm                              Blue\n",
       "2    B3       10 m             560 nm                             Green\n",
       "3    B4       10 m             665 nm                               Red\n",
       "4    B5       20 m             705 nm  Visible and Near Infrared (VNIR)\n",
       "5    B6       20 m             740 nm  Visible and Near Infrared (VNIR)\n",
       "6    B7       20 m             783 nm  Visible and Near Infrared (VNIR)\n",
       "7    B8       10 m             842 nm  Visible and Near Infrared (VNIR)\n",
       "8   B8a       20 m             865 nm  Visible and Near Infrared (VNIR)\n",
       "9    B9       60 m             940 nm        Short Wave Infrared (SWIR)\n",
       "10  B10       60 m            1375 nm        Short Wave Infrared (SWIR)\n",
       "11  B11       20 m            1610 nm        Short Wave Infrared (SWIR)\n",
       "12  B12       20 m            2190 nm        Short Wave Infrared (SWIR)"
      ]
     },
     "execution_count": 8,
     "metadata": {},
     "output_type": "execute_result"
    }
   ],
   "source": [
    "page = 'https://gisgeography.com/how-to-download-sentinel-satellite-data'\n",
    "wavelength_bands = extract_table(page, header_row=0)\n",
    "wavelength_bands"
   ]
  },
  {
   "cell_type": "markdown",
   "metadata": {},
   "source": [
    "## Data input\n",
    "* data downloaded manually, since open data hub is down due to maintanance"
   ]
  },
  {
   "cell_type": "code",
   "execution_count": 77,
   "metadata": {},
   "outputs": [],
   "source": [
    "from zipfile import ZipFile\n",
    "directory = '../data/S2A_MSIL2A_20180324T095031_N0206_R079_T33UYP_20180324T105749.zip'\n",
    "zip_file = ZipFile(directory)\n",
    "\n",
    "_is_wave_band_img = lambda x: 'B' in x.filename and 'IMG_DATA' in x.filename\n",
    "band_files = [x for x in zip_file.infolist() if _is_wave_band_img(x)]\n",
    "zip_file.extractall(members=band_files, path='../data/')"
   ]
  },
  {
   "cell_type": "code",
   "execution_count": 78,
   "metadata": {},
   "outputs": [
    {
     "name": "stdout",
     "output_type": "stream",
     "text": [
      "total 12K\r\n",
      "drwxr-xr-x 2 adrian 4,0K 10 apr 17:39 \u001b[0m\u001b[01;34mR10m\u001b[0m/\r\n",
      "drwxr-xr-x 2 adrian 4,0K 10 apr 17:39 \u001b[01;34mR20m\u001b[0m/\r\n",
      "drwxr-xr-x 2 adrian 4,0K 10 apr 17:39 \u001b[01;34mR60m\u001b[0m/\r\n"
     ]
    }
   ],
   "source": [
    "ll -h ../data/S2A_MSIL2A_20180324T095031_N0206_R079_T33UYP_20180324T105749.SAFE/GRANULE/L2A_T33UYP_A014376_20180324T095537/IMG_DATA/"
   ]
  },
  {
   "cell_type": "code",
   "execution_count": 81,
   "metadata": {},
   "outputs": [
    {
     "name": "stdout",
     "output_type": "stream",
     "text": [
      "total 446M\r\n",
      "-rw-r--r-- 1 adrian 107M 10 apr 17:39 L2A_T33UYP_20180324T095031_B02_10m.jp2\r\n",
      "-rw-r--r-- 1 adrian 107M 10 apr 17:39 L2A_T33UYP_20180324T095031_B03_10m.jp2\r\n",
      "-rw-r--r-- 1 adrian 111M 10 apr 17:39 L2A_T33UYP_20180324T095031_B04_10m.jp2\r\n",
      "-rw-r--r-- 1 adrian 122M 10 apr 17:39 L2A_T33UYP_20180324T095031_B08_10m.jp2\r\n"
     ]
    }
   ],
   "source": [
    "ll -h ../data/S2A_MSIL2A_20180324T095031_N0206_R079_T33UYP_20180324T105749.SAFE/GRANULE/L2A_T33UYP_A014376_20180324T095537/IMG_DATA/R10m/"
   ]
  },
  {
   "cell_type": "code",
   "execution_count": 79,
   "metadata": {},
   "outputs": [
    {
     "name": "stdout",
     "output_type": "stream",
     "text": [
      "total 294M\r\n",
      "-rw-r--r-- 1 adrian 31M 10 apr 17:39 L2A_T33UYP_20180324T095031_B02_20m.jp2\r\n",
      "-rw-r--r-- 1 adrian 31M 10 apr 17:39 L2A_T33UYP_20180324T095031_B03_20m.jp2\r\n",
      "-rw-r--r-- 1 adrian 33M 10 apr 17:39 L2A_T33UYP_20180324T095031_B04_20m.jp2\r\n",
      "-rw-r--r-- 1 adrian 33M 10 apr 17:39 L2A_T33UYP_20180324T095031_B05_20m.jp2\r\n",
      "-rw-r--r-- 1 adrian 34M 10 apr 17:39 L2A_T33UYP_20180324T095031_B06_20m.jp2\r\n",
      "-rw-r--r-- 1 adrian 35M 10 apr 17:39 L2A_T33UYP_20180324T095031_B07_20m.jp2\r\n",
      "-rw-r--r-- 1 adrian 33M 10 apr 17:39 L2A_T33UYP_20180324T095031_B11_20m.jp2\r\n",
      "-rw-r--r-- 1 adrian 33M 10 apr 17:39 L2A_T33UYP_20180324T095031_B12_20m.jp2\r\n",
      "-rw-r--r-- 1 adrian 35M 10 apr 17:39 L2A_T33UYP_20180324T095031_B8A_20m.jp2\r\n"
     ]
    }
   ],
   "source": [
    "ll -h ../data/S2A_MSIL2A_20180324T095031_N0206_R079_T33UYP_20180324T105749.SAFE/GRANULE/L2A_T33UYP_A014376_20180324T095537/IMG_DATA/R20m/"
   ]
  },
  {
   "cell_type": "code",
   "execution_count": 80,
   "metadata": {},
   "outputs": [
    {
     "name": "stdout",
     "output_type": "stream",
     "text": [
      "total 50M\r\n",
      "-rw-r--r-- 1 adrian 3,8M 10 apr 17:39 L2A_T33UYP_20180324T095031_B01_60m.jp2\r\n",
      "-rw-r--r-- 1 adrian 4,2M 10 apr 17:39 L2A_T33UYP_20180324T095031_B02_60m.jp2\r\n",
      "-rw-r--r-- 1 adrian 4,3M 10 apr 17:39 L2A_T33UYP_20180324T095031_B03_60m.jp2\r\n",
      "-rw-r--r-- 1 adrian 4,5M 10 apr 17:39 L2A_T33UYP_20180324T095031_B04_60m.jp2\r\n",
      "-rw-r--r-- 1 adrian 4,5M 10 apr 17:39 L2A_T33UYP_20180324T095031_B05_60m.jp2\r\n",
      "-rw-r--r-- 1 adrian 4,8M 10 apr 17:39 L2A_T33UYP_20180324T095031_B06_60m.jp2\r\n",
      "-rw-r--r-- 1 adrian 4,8M 10 apr 17:39 L2A_T33UYP_20180324T095031_B07_60m.jp2\r\n",
      "-rw-r--r-- 1 adrian 4,7M 10 apr 17:39 L2A_T33UYP_20180324T095031_B09_60m.jp2\r\n",
      "-rw-r--r-- 1 adrian 4,8M 10 apr 17:39 L2A_T33UYP_20180324T095031_B11_60m.jp2\r\n",
      "-rw-r--r-- 1 adrian 4,7M 10 apr 17:39 L2A_T33UYP_20180324T095031_B12_60m.jp2\r\n",
      "-rw-r--r-- 1 adrian 4,9M 10 apr 17:39 L2A_T33UYP_20180324T095031_B8A_60m.jp2\r\n"
     ]
    }
   ],
   "source": [
    "ll -h ../data/S2A_MSIL2A_20180324T095031_N0206_R079_T33UYP_20180324T105749.SAFE/GRANULE/L2A_T33UYP_A014376_20180324T095537/IMG_DATA/R60m/"
   ]
  },
  {
   "cell_type": "code",
   "execution_count": 83,
   "metadata": {},
   "outputs": [
    {
     "name": "stdout",
     "output_type": "stream",
     "text": [
      "Collecting opencv-python\n",
      "  Downloading opencv_python-3.4.0.12-cp27-cp27mu-manylinux1_x86_64.whl (24.9MB)\n",
      "\u001b[K    100% |████████████████████████████████| 24.9MB 57kB/s  eta 0:00:01\n",
      "\u001b[?25hRequirement already satisfied: numpy>=1.11.1 in /home/adrian/.pyenv/versions/miniconda2-latest/envs/tensorflow/lib/python2.7/site-packages (from opencv-python)\n",
      "Installing collected packages: opencv-python\n",
      "Successfully installed opencv-python-3.4.0.12\n"
     ]
    }
   ],
   "source": [
    "!pip install opencv-python"
   ]
  },
  {
   "cell_type": "markdown",
   "metadata": {},
   "source": [
    "# TODO: convert images from .jp2 to .tiff format\n",
    "* useful links - needs GDAL:\n",
    "    * [github](https://github.com/dairejpwalsh/Sentinel-Scripts)\n",
    "    * [SO](https://gis.stackexchange.com/questions/214489/handle-jp2-sentinel-data)"
   ]
  }
 ],
 "metadata": {
  "kernelspec": {
   "display_name": "Python 2",
   "language": "python",
   "name": "python2"
  },
  "language_info": {
   "codemirror_mode": {
    "name": "ipython",
    "version": 2
   },
   "file_extension": ".py",
   "mimetype": "text/x-python",
   "name": "python",
   "nbconvert_exporter": "python",
   "pygments_lexer": "ipython2",
   "version": "2.7.13"
  }
 },
 "nbformat": 4,
 "nbformat_minor": 2
}
