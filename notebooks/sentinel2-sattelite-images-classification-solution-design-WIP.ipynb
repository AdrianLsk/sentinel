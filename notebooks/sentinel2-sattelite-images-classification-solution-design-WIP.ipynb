{
 "cells": [
  {
   "cell_type": "markdown",
   "metadata": {},
   "source": [
    "# References:\n",
    "\n",
    "* manual:  \n",
    "    * [data-download](https://gisgeography.com/how-to-download-sentinel-satellite-data/)  \n",
    "    * [ndvi-calculation-qgis](https://gisgeography.com/how-to-ndvi-maps-arcgis/)  \n",
    "    * [image-classification-qgis](https://gisgeography.com/image-classification-techniques-remote-sensing/)  \n",
    "    \n",
    "    \n",
    "* programmatically:  \n",
    "    * [data-download](http://sentinelsat.readthedocs.io/en/stable/)  \n",
    "    * [ndvi-calculation](http://neondataskills.org/HDF5/calc-ndvi-python/)  \n",
    "    * [CCCI](https://www.researchgate.net/publication/259360047_Use_of_the_Canopy_Chlorophyl_Content_Index_CCCI_for_Remote_Estimation_of_Wheat_Nitrogen_Content_in_Rainfed_Environments), [EVI](https://en.wikipedia.org/wiki/Enhanced_vegetation_index), [SAVI](https://en.wikipedia.org/wiki/Soil-adjusted_vegetation_index) \n",
    "    * simple solution based on color band wavelength thresholding\n",
    "    * machine learning based solution:\n",
    "        * deep learning for computer vision: convolutional neural networks\n",
    "        * [Kaggle-solution-satellite-images-classification](http://blog.kaggle.com/2017/05/09/dstl-satellite-imagery-competition-3rd-place-winners-interview-vladimir-sergey/)\n",
    "    \n",
    "    \n",
    "    \n",
    "# Solution:\n",
    "    * backend: Python Flask + ML lib: scikit-learn/TensorFlow \n",
    "    * frontend: ReactJS?\n",
    "\n",
    "# Data analysis starter code\n",
    "## Data collection using ESA sentinel data products\n",
    "References:\n",
    "* [sentinelsat github](https://github.com/sentinelsat/sentinelsat/blob/127619f6baede1b5cc852b208d4e57e9f4d518ee/README.rst)"
   ]
  },
  {
   "cell_type": "code",
   "execution_count": 156,
   "metadata": {},
   "outputs": [
    {
     "data": {
      "text/html": [
       "<div style=\"width:100%;\"><div style=\"position:relative;width:100%;height:0;padding-bottom:60%;\"><iframe src=\"data:text/html;charset=utf-8;base64,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\" style=\"position:absolute;width:100%;height:100%;left:0;top:0;border:none !important;\" allowfullscreen webkitallowfullscreen mozallowfullscreen></iframe></div></div>"
      ],
      "text/plain": [
       "<folium.folium.Map at 0x7f36e4191f90>"
      ]
     },
     "execution_count": 156,
     "metadata": {},
     "output_type": "execute_result"
    }
   ],
   "source": [
    "%matplotlib inline\n",
    "import matplotlib.pyplot as plt\n",
    "import numpy as np\n",
    "from sentinelsat.sentinel import SentinelAPI, read_geojson, geojson_to_wkt\n",
    "from geojson import Polygon\n",
    "from datetime import date\n",
    "import json\n",
    "import folium\n",
    "\n",
    "with open('sentinel_user_login.json', 'r') as fp:\n",
    "    LOGIN_INFO = json.load(fp)\n",
    "USER_NAME, PASSWORD = list(LOGIN_INFO.values())\n",
    "# USER_NAME, PASSWORD = '<YourUserName>', '<YourPassword>'\n",
    "\n",
    "# define a map polygon\n",
    "coordinates = [[\n",
    "    (18.025318309126252, 48.25365988314252),\n",
    "    (17.945005267006067, 48.18825958525136),\n",
    "    (18.043165651819628, 48.18825958525136),\n",
    "    (18.025318309126252, 48.25365988314252),\n",
    "    (18.025318309126252, 48.25365988314252)\n",
    "]]\n",
    "geojson = Polygon(coordinates=coordinates)\n",
    "\n",
    "# connect to the API\n",
    "api = SentinelAPI(USER_NAME, PASSWORD, 'https://scihub.copernicus.eu/dhus')\n",
    "\n",
    "# search by polygon, time, and Hub query keywords\n",
    "footprint = geojson_to_wkt(geojson)\n",
    "date = (date(2017, 6, 10), date(2017, 7, 24))\n",
    "\n",
    "# June to July maps\n",
    "products = api.query(footprint,\n",
    "                     date=date,\n",
    "                     platformname='Sentinel-2',\n",
    "                     cloudcoverpercentage=(0, 40))\n",
    "\n",
    "product_id = products.keys()[0]  # June\n",
    "\n",
    "# GeoPandas GeoDataFrame with the metadata of the scenes and the footprints as geometries\n",
    "geo_df = api.to_geodataframe(products).loc[[product_id]][['geometry']]\n",
    "\n",
    "def add_choropleth(mapobj, gdf, fill_color='Blue', fill_opacity=0.6,\n",
    "                   line_opacity=0.2, num_classes=5):\n",
    "    # Convert the GeoDataFrame to WGS84 coordinate reference system\n",
    "    gdf_wgs84 = gdf.to_crs({'init': 'epsg:4326'})\n",
    "    \n",
    "    # Call Folium choropleth function, specifying the geometry as a the WGS84 dataframe converted to GeoJSON,\n",
    "    # the data as the GeoDataFrame, the columns as the user-specified id field and and value field.\n",
    "    # key_on field refers to the id field within the GeoJSON string\n",
    "    mapobj.choropleth(\n",
    "        geo_data=gdf_wgs84.to_json(),\n",
    "        fill_color=fill_color,\n",
    "        fill_opacity=fill_opacity,\n",
    "        line_opacity=line_opacity,  \n",
    "    )\n",
    "    return mapobj\n",
    "\n",
    "slovakia_map = folium.Map(np.mean(coordinates[0], 0).tolist()[::-1], zoom_start=8)\n",
    "slovakia_map = add_choropleth(slovakia_map, geo_df)\n",
    "slovakia_map"
   ]
  },
  {
   "cell_type": "code",
   "execution_count": 76,
   "metadata": {},
   "outputs": [
    {
     "name": "stderr",
     "output_type": "stream",
     "text": [
      "Downloading: 100%|██████████| 328M/328M [02:57<00:00, 3.43MB/s] \n",
      "MD5 checksumming: 100%|██████████| 328M/328M [00:00<00:00, 430MB/s] \n"
     ]
    },
    {
     "data": {
      "text/plain": [
       "{'date': datetime.datetime(2017, 7, 20, 9, 5, 59, 27000),\n",
       " 'downloaded_bytes': 328128680,\n",
       " 'footprint': 'POLYGON((18.224327492290943 9.032226956191858,18.22408663416593 9.031170951441243,18.190288805135168 8.882687380398918,18.15652836885776 8.734123505868032,18.122834244765087 8.585483924887761,18.089129232281447 8.436847202629654,18.055507322880683 8.288196640945996,18.02187062054346 8.139610307979558,17.999846132497346 8.04236279416387,17.72146757415633 8.044545576909323,17.728512282037876 9.03659015317746,18.224327492290943 9.032226956191858))',\n",
       " 'id': u'32dda06c-1fe5-4432-b8fc-fe7d53c4d4b6',\n",
       " u'md5': u'23DE96A2F93CBE3CB6FEB374C1783FB6',\n",
       " 'path': u'../data/S2B_MSIL1C_20170720T090559_N0205_R050_T33PZK_20170720T092114.zip',\n",
       " 'size': 328128680,\n",
       " 'title': u'S2B_MSIL1C_20170720T090559_N0205_R050_T33PZK_20170720T092114',\n",
       " 'url': u\"https://scihub.copernicus.eu/dhus/odata/v1/Products('32dda06c-1fe5-4432-b8fc-fe7d53c4d4b6')/$value\"}"
      ]
     },
     "execution_count": 76,
     "metadata": {},
     "output_type": "execute_result"
    }
   ],
   "source": [
    "# download all results from the search\n",
    "# api.download_all(products)\n",
    "api.download(id=product_id, directory_path='../data')"
   ]
  },
  {
   "cell_type": "code",
   "execution_count": 154,
   "metadata": {},
   "outputs": [
    {
     "name": "stdout",
     "output_type": "stream",
     "text": [
      "total 313M\r\n",
      "-rw-r--r-- 1 adrian 313M 11 apr 16:43 \u001b[0m\u001b[01;31mS2B_MSIL1C_20170720T090559_N0205_R050_T33PZK_20170720T092114.zip\u001b[0m\u001b[K\r\n"
     ]
    }
   ],
   "source": [
    "ll -h ../data/"
   ]
  },
  {
   "cell_type": "markdown",
   "metadata": {},
   "source": [
    "## Data input types"
   ]
  },
  {
   "cell_type": "code",
   "execution_count": 5,
   "metadata": {},
   "outputs": [],
   "source": [
    "from bs4 import BeautifulSoup\n",
    "import requests\n",
    "import re\n",
    "import pandas as pd\n",
    "\n",
    "def extract_table(wiki_page, header_row=0):\n",
    "    soup = BeautifulSoup(requests.get(wiki_page).text, \"html5lib\")\n",
    "    table = soup.find(\"table\")\n",
    "    rows = table.find_all(\"tr\")\n",
    "\n",
    "    header = [re.sub(r'(\\[\\d\\])', '', x.text) for x in rows[header_row].find_all('th')]\n",
    "    table = [[x.text for x in row.find_all('td')] for row in rows[header_row+1:]]\n",
    "    return pd.DataFrame(table, columns=header)"
   ]
  },
  {
   "cell_type": "code",
   "execution_count": 8,
   "metadata": {
    "scrolled": true
   },
   "outputs": [
    {
     "data": {
      "text/html": [
       "<div>\n",
       "<style scoped>\n",
       "    .dataframe tbody tr th:only-of-type {\n",
       "        vertical-align: middle;\n",
       "    }\n",
       "\n",
       "    .dataframe tbody tr th {\n",
       "        vertical-align: top;\n",
       "    }\n",
       "\n",
       "    .dataframe thead th {\n",
       "        text-align: right;\n",
       "    }\n",
       "</style>\n",
       "<table border=\"1\" class=\"dataframe\">\n",
       "  <thead>\n",
       "    <tr style=\"text-align: right;\">\n",
       "      <th></th>\n",
       "      <th>Band</th>\n",
       "      <th>Resolution</th>\n",
       "      <th>Central Wavelength</th>\n",
       "      <th>Description</th>\n",
       "    </tr>\n",
       "  </thead>\n",
       "  <tbody>\n",
       "    <tr>\n",
       "      <th>0</th>\n",
       "      <td>B1</td>\n",
       "      <td>60 m</td>\n",
       "      <td>443 nm</td>\n",
       "      <td>Ultra blue (Coastal and Aerosol)</td>\n",
       "    </tr>\n",
       "    <tr>\n",
       "      <th>1</th>\n",
       "      <td>B2</td>\n",
       "      <td>10 m</td>\n",
       "      <td>490 nm</td>\n",
       "      <td>Blue</td>\n",
       "    </tr>\n",
       "    <tr>\n",
       "      <th>2</th>\n",
       "      <td>B3</td>\n",
       "      <td>10 m</td>\n",
       "      <td>560 nm</td>\n",
       "      <td>Green</td>\n",
       "    </tr>\n",
       "    <tr>\n",
       "      <th>3</th>\n",
       "      <td>B4</td>\n",
       "      <td>10 m</td>\n",
       "      <td>665 nm</td>\n",
       "      <td>Red</td>\n",
       "    </tr>\n",
       "    <tr>\n",
       "      <th>4</th>\n",
       "      <td>B5</td>\n",
       "      <td>20 m</td>\n",
       "      <td>705 nm</td>\n",
       "      <td>Visible and Near Infrared (VNIR)</td>\n",
       "    </tr>\n",
       "    <tr>\n",
       "      <th>5</th>\n",
       "      <td>B6</td>\n",
       "      <td>20 m</td>\n",
       "      <td>740 nm</td>\n",
       "      <td>Visible and Near Infrared (VNIR)</td>\n",
       "    </tr>\n",
       "    <tr>\n",
       "      <th>6</th>\n",
       "      <td>B7</td>\n",
       "      <td>20 m</td>\n",
       "      <td>783 nm</td>\n",
       "      <td>Visible and Near Infrared (VNIR)</td>\n",
       "    </tr>\n",
       "    <tr>\n",
       "      <th>7</th>\n",
       "      <td>B8</td>\n",
       "      <td>10 m</td>\n",
       "      <td>842 nm</td>\n",
       "      <td>Visible and Near Infrared (VNIR)</td>\n",
       "    </tr>\n",
       "    <tr>\n",
       "      <th>8</th>\n",
       "      <td>B8a</td>\n",
       "      <td>20 m</td>\n",
       "      <td>865 nm</td>\n",
       "      <td>Visible and Near Infrared (VNIR)</td>\n",
       "    </tr>\n",
       "    <tr>\n",
       "      <th>9</th>\n",
       "      <td>B9</td>\n",
       "      <td>60 m</td>\n",
       "      <td>940 nm</td>\n",
       "      <td>Short Wave Infrared (SWIR)</td>\n",
       "    </tr>\n",
       "    <tr>\n",
       "      <th>10</th>\n",
       "      <td>B10</td>\n",
       "      <td>60 m</td>\n",
       "      <td>1375 nm</td>\n",
       "      <td>Short Wave Infrared (SWIR)</td>\n",
       "    </tr>\n",
       "    <tr>\n",
       "      <th>11</th>\n",
       "      <td>B11</td>\n",
       "      <td>20 m</td>\n",
       "      <td>1610 nm</td>\n",
       "      <td>Short Wave Infrared (SWIR)</td>\n",
       "    </tr>\n",
       "    <tr>\n",
       "      <th>12</th>\n",
       "      <td>B12</td>\n",
       "      <td>20 m</td>\n",
       "      <td>2190 nm</td>\n",
       "      <td>Short Wave Infrared (SWIR)</td>\n",
       "    </tr>\n",
       "  </tbody>\n",
       "</table>\n",
       "</div>"
      ],
      "text/plain": [
       "   Band Resolution Central Wavelength                       Description\n",
       "0    B1       60 m             443 nm  Ultra blue (Coastal and Aerosol)\n",
       "1    B2       10 m             490 nm                              Blue\n",
       "2    B3       10 m             560 nm                             Green\n",
       "3    B4       10 m             665 nm                               Red\n",
       "4    B5       20 m             705 nm  Visible and Near Infrared (VNIR)\n",
       "5    B6       20 m             740 nm  Visible and Near Infrared (VNIR)\n",
       "6    B7       20 m             783 nm  Visible and Near Infrared (VNIR)\n",
       "7    B8       10 m             842 nm  Visible and Near Infrared (VNIR)\n",
       "8   B8a       20 m             865 nm  Visible and Near Infrared (VNIR)\n",
       "9    B9       60 m             940 nm        Short Wave Infrared (SWIR)\n",
       "10  B10       60 m            1375 nm        Short Wave Infrared (SWIR)\n",
       "11  B11       20 m            1610 nm        Short Wave Infrared (SWIR)\n",
       "12  B12       20 m            2190 nm        Short Wave Infrared (SWIR)"
      ]
     },
     "execution_count": 8,
     "metadata": {},
     "output_type": "execute_result"
    }
   ],
   "source": [
    "page = 'https://gisgeography.com/how-to-download-sentinel-satellite-data'\n",
    "wavelength_bands = extract_table(page, header_row=0)\n",
    "wavelength_bands"
   ]
  },
  {
   "cell_type": "markdown",
   "metadata": {},
   "source": [
    "## Data input"
   ]
  },
  {
   "cell_type": "code",
   "execution_count": 157,
   "metadata": {},
   "outputs": [],
   "source": [
    "from zipfile import ZipFile\n",
    "directory = '../data/S2B_MSIL1C_20170720T090559_N0205_R050_T33PZK_20170720T092114.zip'\n",
    "zip_file = ZipFile(directory)\n",
    "\n",
    "_is_wave_band_img = lambda x: 'B' in x.filename and 'IMG_DATA' in x.filename\n",
    "band_files = [x for x in zip_file.infolist() if _is_wave_band_img(x)]\n",
    "zip_file.extractall(members=band_files, path='../data/')"
   ]
  },
  {
   "cell_type": "code",
   "execution_count": 159,
   "metadata": {},
   "outputs": [
    {
     "name": "stdout",
     "output_type": "stream",
     "text": [
      "total 292M\r\n",
      "-rw-r--r-- 1 adrian 1,4M 11 apr 17:32 T33PZK_20170720T090559_B01.jp2\r\n",
      "-rw-r--r-- 1 adrian  36M 11 apr 17:32 T33PZK_20170720T090559_B02.jp2\r\n",
      "-rw-r--r-- 1 adrian  38M 11 apr 17:32 T33PZK_20170720T090559_B03.jp2\r\n",
      "-rw-r--r-- 1 adrian  40M 11 apr 17:32 T33PZK_20170720T090559_B04.jp2\r\n",
      "-rw-r--r-- 1 adrian  12M 11 apr 17:32 T33PZK_20170720T090559_B05.jp2\r\n",
      "-rw-r--r-- 1 adrian  13M 11 apr 17:32 T33PZK_20170720T090559_B06.jp2\r\n",
      "-rw-r--r-- 1 adrian  14M 11 apr 17:32 T33PZK_20170720T090559_B07.jp2\r\n",
      "-rw-r--r-- 1 adrian  48M 11 apr 17:32 T33PZK_20170720T090559_B08.jp2\r\n",
      "-rw-r--r-- 1 adrian 1,3M 11 apr 17:32 T33PZK_20170720T090559_B09.jp2\r\n",
      "-rw-r--r-- 1 adrian 701K 11 apr 17:32 T33PZK_20170720T090559_B10.jp2\r\n",
      "-rw-r--r-- 1 adrian  13M 11 apr 17:32 T33PZK_20170720T090559_B11.jp2\r\n",
      "-rw-r--r-- 1 adrian  13M 11 apr 17:32 T33PZK_20170720T090559_B12.jp2\r\n",
      "-rw-r--r-- 1 adrian  14M 11 apr 17:32 T33PZK_20170720T090559_B8A.jp2\r\n",
      "-rw-r--r-- 1 adrian  52M 11 apr 17:32 T33PZK_20170720T090559_TCI.jp2\r\n"
     ]
    }
   ],
   "source": [
    "ll -h ../data/S2B_MSIL1C_20170720T090559_N0205_R050_T33PZK_20170720T092114.SAFE/GRANULE/L1C_T33PZK_A001935_20170720T092114/IMG_DATA/"
   ]
  },
  {
   "cell_type": "markdown",
   "metadata": {},
   "source": [
    "# TODO: convert images from .jp2 to .tiff format\n",
    "* useful links - needs GDAL:\n",
    "    * [github](https://github.com/dairejpwalsh/Sentinel-Scripts)\n",
    "    * [SO](https://gis.stackexchange.com/questions/214489/handle-jp2-sentinel-data)"
   ]
  }
 ],
 "metadata": {
  "kernelspec": {
   "display_name": "Python 2",
   "language": "python",
   "name": "python2"
  },
  "language_info": {
   "codemirror_mode": {
    "name": "ipython",
    "version": 2
   },
   "file_extension": ".py",
   "mimetype": "text/x-python",
   "name": "python",
   "nbconvert_exporter": "python",
   "pygments_lexer": "ipython2",
   "version": "2.7.13"
  }
 },
 "nbformat": 4,
 "nbformat_minor": 2
}
