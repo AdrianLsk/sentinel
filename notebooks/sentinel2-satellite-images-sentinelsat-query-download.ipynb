{
 "cells": [
  {
   "cell_type": "code",
   "execution_count": 2,
   "metadata": {},
   "outputs": [
    {
     "name": "stdout",
     "output_type": "stream",
     "text": [
      "[NbConvertApp] Converting notebook ./sentinel2-sattelite-images-classification-solution-design-WIP.ipynb to python\n",
      "[NbConvertApp] Writing 11146 bytes to ./sentinel2-sattelite-images-classification-solution-design-WIP.py\n"
     ]
    }
   ],
   "source": [
    "!jupyter nbconvert --to python ./sentinel2-sattelite-images-classification-solution-design-WIP.ipynb"
   ]
  },
  {
   "cell_type": "code",
   "execution_count": 138,
   "metadata": {},
   "outputs": [
    {
     "data": {
      "text/html": [
       "<div style=\"width:100%;\"><div style=\"position:relative;width:100%;height:0;padding-bottom:60%;\"><iframe src=\"data:text/html;charset=utf-8;base64,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\" style=\"position:absolute;width:100%;height:100%;left:0;top:0;border:none !important;\" allowfullscreen webkitallowfullscreen mozallowfullscreen></iframe></div></div>"
      ],
      "text/plain": [
       "<folium.folium.Map at 0x7ff9d33b3128>"
      ]
     },
     "execution_count": 138,
     "metadata": {},
     "output_type": "execute_result"
    }
   ],
   "source": [
    "%matplotlib inline\n",
    "import matplotlib.pyplot as plt\n",
    "import numpy as np\n",
    "from sentinelsat.sentinel import SentinelAPI, read_geojson, geojson_to_wkt\n",
    "from geojson import Polygon\n",
    "from datetime import date\n",
    "import json\n",
    "import folium\n",
    "\n",
    "with open('sentinel_user_login.json', 'r') as fp:\n",
    "    LOGIN_INFO = json.load(fp)\n",
    "USER_NAME, PASSWORD = list(LOGIN_INFO.values())\n",
    "# USER_NAME, PASSWORD = '<YourUserName>', '<YourPassword>'\n",
    "\n",
    "# define a map polygon\n",
    "coordinates = [[\n",
    "    (18.025318309126252, 48.25365988314252),\n",
    "    (17.945005267006067, 48.18825958525136),\n",
    "    (18.043165651819628, 48.18825958525136),\n",
    "    (18.025318309126252, 48.25365988314252),\n",
    "    (18.025318309126252, 48.25365988314252)\n",
    "]]\n",
    "geojson = Polygon(coordinates=coordinates)\n",
    "\n",
    "# connect to the API\n",
    "api = SentinelAPI(USER_NAME, PASSWORD, 'https://scihub.copernicus.eu/dhus')\n",
    "\n",
    "# search by polygon, time, and Hub query keywords\n",
    "footprint = geojson_to_wkt(geojson)\n",
    "dates = (date(2017, 6, 10), date(2017, 8, 24))\n",
    "dates = (date(2018, 4, 1), date(2018, 4, 11))\n",
    "\n",
    "# June to July maps\n",
    "products = api.query(footprint,\n",
    "                     date=dates,\n",
    "                     platformname='Sentinel-2',\n",
    "#                      producttype='S2MSI1C',\n",
    "                     producttype='S2MSI2A',\n",
    "                     area_relation='Intersects',  # area of interest is inside footprint\n",
    "#                      area_relation='Contains',  # area of interest is inside footprint\n",
    "#                      area_relation='IsWithin',  # area of interest is inside footprint\n",
    "                     cloudcoverpercentage=(0, 40))\n",
    "\n",
    "product_id = list(products.keys())[0]  # June\n",
    "\n",
    "# GeoPandas GeoDataFrame with the metadata of the scenes and the footprints as geometries\n",
    "geo_df = api.to_geodataframe(products).loc[[product_id]][['geometry']]\n",
    "\n",
    "def add_choropleth(mapobj, gdf, fill_color='Blue', fill_opacity=0.6,\n",
    "                   line_opacity=0.2, num_classes=5):\n",
    "    # Convert the GeoDataFrame to WGS84 coordinate reference system\n",
    "    gdf_wgs84 = gdf.to_crs({'init': 'epsg:4326'})\n",
    "    \n",
    "    # Call Folium choropleth function, specifying the geometry as a the WGS84 dataframe converted to GeoJSON,\n",
    "    # the data as the GeoDataFrame, the columns as the user-specified id field and and value field.\n",
    "    # key_on field refers to the id field within the GeoJSON string\n",
    "    mapobj.choropleth(\n",
    "        geo_data=gdf_wgs84.to_json(),\n",
    "        fill_color=fill_color,\n",
    "        fill_opacity=fill_opacity,\n",
    "        line_opacity=line_opacity,  \n",
    "    )\n",
    "    return mapobj\n",
    "\n",
    "slovakia_map = folium.Map(np.mean(coordinates[0], 0).tolist()[::-1], zoom_start=8)\n",
    "slovakia_map = add_choropleth(slovakia_map, geo_df)\n",
    "slovakia_map"
   ]
  },
  {
   "cell_type": "code",
   "execution_count": 139,
   "metadata": {},
   "outputs": [
    {
     "name": "stderr",
     "output_type": "stream",
     "text": [
      "Downloading: 100%|██████████| 1.20G/1.20G [04:12<00:00, 4.76MB/s]\n",
      "MD5 checksumming: 100%|██████████| 1.20G/1.20G [00:02<00:00, 556MB/s]\n"
     ]
    },
    {
     "data": {
      "text/plain": [
       "{'id': '2e938509-84f3-4ae1-b2c4-0da5680c9588',\n",
       " 'title': 'S2B_MSIL2A_20180408T095029_N0207_R079_T33UYP_20180408T115858',\n",
       " 'size': 1203884722,\n",
       " 'md5': '448BF75624F75C34FB668220E0F0E75B',\n",
       " 'date': datetime.datetime(2018, 4, 8, 9, 50, 29, 27000),\n",
       " 'footprint': 'POLYGON((17.718815262801492 48.720927698149374,19.208284435787206 48.676094448248996,19.1282606560594 47.69085106573984,17.667009418148023 47.73416799677996,17.718815262801492 48.720927698149374))',\n",
       " 'url': \"https://scihub.copernicus.eu/dhus/odata/v1/Products('2e938509-84f3-4ae1-b2c4-0da5680c9588')/$value\",\n",
       " 'path': '../data/S2B_MSIL2A_20180408T095029_N0207_R079_T33UYP_20180408T115858.zip',\n",
       " 'downloaded_bytes': 1203884722}"
      ]
     },
     "execution_count": 139,
     "metadata": {},
     "output_type": "execute_result"
    }
   ],
   "source": [
    "# download all results from the search\n",
    "# api.download_all(products)\n",
    "api.download(id=product_id, directory_path='../data')"
   ]
  },
  {
   "cell_type": "code",
   "execution_count": 129,
   "metadata": {},
   "outputs": [
    {
     "name": "stdout",
     "output_type": "stream",
     "text": [
      "total 1,5G\n",
      "drwxr-xr-x 2 adrian 4,0K 15 apr 00:37 \u001b[0m\u001b[01;34mS2B_MSIL1C_20170720T090559_N0205_R050_T33PZK_20170720T092114_PROCESSED\u001b[0m\u001b[K/\n",
      "drwxr-xr-x 3 adrian 4,0K 11 apr 17:32 \u001b[01;34mS2B_MSIL1C_20170720T090559_N0205_R050_T33PZK_20170720T092114.SAFE\u001b[0m\u001b[K/\n",
      "-rw-r--r-- 1 adrian 313M 11 apr 16:43 \u001b[01;31mS2B_MSIL1C_20170720T090559_N0205_R050_T33PZK_20170720T092114.zip\u001b[0m\u001b[K\n",
      "drwxr-xr-x 2 adrian 4,0K 15 apr 13:47 \u001b[01;34mS2B_MSIL2A_20180408T095029_N0207_R079_T33UYP_20180408T115858_PROCESSED\u001b[0m\u001b[K/\n",
      "drwxr-xr-x 3 adrian 4,0K 15 apr 00:18 \u001b[01;34mS2B_MSIL2A_20180408T095029_N0207_R079_T33UYP_20180408T115858.SAFE\u001b[0m\u001b[K/\n",
      "-rw-r--r-- 1 adrian 1,2G 15 apr 00:14 \u001b[01;31mS2B_MSIL2A_20180408T095029_N0207_R079_T33UYP_20180408T115858.zip\u001b[0m\u001b[K\n"
     ]
    }
   ],
   "source": [
    "ll -h ../data/"
   ]
  }
 ],
 "metadata": {
  "kernelspec": {
   "display_name": "Python 3",
   "language": "python",
   "name": "python3"
  },
  "language_info": {
   "codemirror_mode": {
    "name": "ipython",
    "version": 3
   },
   "file_extension": ".py",
   "mimetype": "text/x-python",
   "name": "python",
   "nbconvert_exporter": "python",
   "pygments_lexer": "ipython3",
   "version": "3.6.5"
  }
 },
 "nbformat": 4,
 "nbformat_minor": 2
}
